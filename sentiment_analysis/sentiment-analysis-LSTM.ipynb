{
 "cells": [
  {
   "cell_type": "markdown",
   "id": "886a7ef1-297d-4373-b70e-438a6f9eda15",
   "metadata": {
    "tags": []
   },
   "source": [
    "# Sentiment analysis"
   ]
  },
  {
   "cell_type": "code",
   "execution_count": 1,
   "id": "32c3e1c9-e4e9-4ede-b94d-2f606677561e",
   "metadata": {},
   "outputs": [],
   "source": [
    "import pandas as pd\n",
    "import numpy as np\n",
    "import matplotlib.pyplot as plt\n",
    "import seaborn as sns"
   ]
  },
  {
   "cell_type": "code",
   "execution_count": 2,
   "id": "48dd9ff0-4ffc-4cf2-93a1-ce24c5b30032",
   "metadata": {},
   "outputs": [],
   "source": [
    "df_train = pd.read_csv('data/train.csv')\n",
    "df_valid = pd.read_csv('data/valid.csv')\n",
    "df_test = pd.read_csv('data/test.csv')"
   ]
  },
  {
   "cell_type": "code",
   "execution_count": 3,
   "id": "ac33f72c-1bb4-4bd7-9a6a-b44aaf6ea947",
   "metadata": {},
   "outputs": [
    {
     "name": "stdout",
     "output_type": "stream",
     "text": [
      "                                                text  label\n",
      "0  I grew up (b. 1965) watching and loving the Th...      0\n",
      "1  When I put this movie in my DVD player, and sa...      0\n",
      "2  Why do people who do not know what a particula...      0\n",
      "3  Even though I have great interest in Biblical ...      0\n",
      "4  Im a die hard Dads Army fan and nothing will e...      1\n"
     ]
    }
   ],
   "source": [
    "print(df_train.head())"
   ]
  },
  {
   "cell_type": "code",
   "execution_count": 4,
   "id": "ab6cd07a-2d0d-461c-8cd7-aa26260d980f",
   "metadata": {},
   "outputs": [
    {
     "name": "stdout",
     "output_type": "stream",
     "text": [
      "                                                text  label\n",
      "0  It's been about 14 years since Sharon Stone aw...      0\n",
      "1  someone needed to make a car payment... this i...      0\n",
      "2  The Guidelines state that a comment must conta...      0\n",
      "3  This movie is a muddled mish-mash of clichés f...      0\n",
      "4  Before Stan Laurel became the smaller half of ...      0\n"
     ]
    }
   ],
   "source": [
    "print(df_valid.head())"
   ]
  },
  {
   "cell_type": "code",
   "execution_count": 5,
   "id": "2638c197-b15e-4002-b816-13e23a4cbaf3",
   "metadata": {},
   "outputs": [
    {
     "name": "stdout",
     "output_type": "stream",
     "text": [
      "                                                text  label\n",
      "0  I always wrote this series off as being a comp...      0\n",
      "1  1st watched 12/7/2002 - 3 out of 10(Dir-Steve ...      0\n",
      "2  This movie was so poorly written and directed ...      0\n",
      "3  The most interesting thing about Miryang (Secr...      1\n",
      "4  when i first read about \"berlin am meer\" i did...      0\n"
     ]
    }
   ],
   "source": [
    "print(df_test.head())"
   ]
  },
  {
   "cell_type": "markdown",
   "id": "0743faba-438a-494e-ac72-6f914d9a483b",
   "metadata": {},
   "source": [
    "# Distribution of length"
   ]
  },
  {
   "cell_type": "code",
   "execution_count": 6,
   "id": "761f86f6-8295-419b-a4ff-06a4c600f3ee",
   "metadata": {},
   "outputs": [
    {
     "data": {
      "image/png": "[encoded data removed]",
      "text/plain": [
       "<Figure size 1440x504 with 2 Axes>"
      ]
     },
     "metadata": {
      "needs_background": "light"
     },
     "output_type": "display_data"
    }
   ],
   "source": [
    "fig, ax = plt.subplots(1, 2, figsize=(20, 7))\n",
    "\n",
    "ax[0].hist(df_train[df_train['label'] == 0]['text'].str.len(), bins=50, label='Negative', histtype='step')\n",
    "ax[0].hist(df_train[df_train['label'] == 1]['text'].str.len(), bins=50, label='Positive', histtype='step')\n",
    "\n",
    "ax[0].set_xlabel('Tweet length')\n",
    "ax[0].set_ylabel('Count')\n",
    "ax[0].set_title('Train data')\n",
    "ax[0].legend(loc='best')\n",
    "\n",
    "ax[1].hist(df_valid[df_valid['label'] == 0]['text'].str.len(), bins=50, label='Negative', histtype='step')\n",
    "ax[1].hist(df_valid[df_valid['label'] == 1]['text'].str.len(), bins=50, label='Positive', histtype='step')\n",
    "\n",
    "ax[1].set_xlabel('Tweet length')\n",
    "ax[1].set_ylabel('Count')\n",
    "ax[1].set_title('Validation data')\n",
    "ax[1].legend(loc='best')\n",
    "\n",
    "plt.tight_layout()\n",
    "plt.show()"
   ]
  },
  {
   "cell_type": "markdown",
   "id": "09981861-a08b-4862-8e5b-6a6693e4a929",
   "metadata": {},
   "source": [
    "# Class balance"
   ]
  },
  {
   "cell_type": "code",
   "execution_count": 7,
   "id": "6075935b-38ae-4232-a452-4ee1ebd36f82",
   "metadata": {},
   "outputs": [
    {
     "name": "stdout",
     "output_type": "stream",
     "text": [
      "0.500475\n",
      "0.499525\n",
      "0.4972\n",
      "0.5028\n",
      "0.499\n",
      "0.501\n"
     ]
    }
   ],
   "source": [
    "def get_length(X, val):\n",
    "    view = X[X['label'] == val]\n",
    "    total = len(X)\n",
    "    return len(view) / total\n",
    "\n",
    "print(get_length(df_train, 0))\n",
    "print(get_length(df_train, 1))\n",
    "\n",
    "print(get_length(df_valid, 0))\n",
    "print(get_length(df_valid, 1))\n",
    "\n",
    "print(get_length(df_test, 0))\n",
    "print(get_length(df_test, 1))"
   ]
  },
  {
   "cell_type": "markdown",
   "id": "a8100444-8f30-4a78-bd48-653f82522f53",
   "metadata": {},
   "source": [
    "# Preprocessing\n",
    "* Change text to lower case\n",
    "* Remove any urls\n",
    "* Remove punctuation\n",
    "* Remove stopwords"
   ]
  },
  {
   "cell_type": "code",
   "execution_count": 8,
   "id": "660879ae-67c8-4518-9769-7401c915ffd1",
   "metadata": {},
   "outputs": [],
   "source": [
    "# lower case\n",
    "df_train['text'] = df_train['text'].str.lower()\n",
    "df_valid['text'] = df_valid['text'].str.lower()\n",
    "df_test['text'] = df_test['text'].str.lower()"
   ]
  },
  {
   "cell_type": "code",
   "execution_count": 9,
   "id": "b208ca78-e9b0-4af4-a828-d227cfa69dcd",
   "metadata": {},
   "outputs": [],
   "source": [
    "# remove URLS\n",
    "import re\n",
    "\n",
    "def remove_urls(text):\n",
    "    url = re.compile(r'https?://\\S+|www\\.\\S+')\n",
    "    \n",
    "    return url.sub(r'', text)\n",
    "\n",
    "df_train['text'] = df_train['text'].apply(remove_urls)\n",
    "df_valid['text'] = df_valid['text'].apply(remove_urls)\n",
    "df_test['text'] = df_test['text'].apply(remove_urls)"
   ]
  },
  {
   "cell_type": "code",
   "execution_count": 10,
   "id": "9420b5d4-b267-46d1-b102-1f60bffaa9d3",
   "metadata": {},
   "outputs": [],
   "source": [
    "# removing punctuation\n",
    "def remove_punctuation(text):\n",
    "    text = text.replace('.', '')\n",
    "    text = text.replace(',', '')\n",
    "    text = text.replace('!', '')\n",
    "    text = text.replace('?', '')\n",
    "    text = text.replace('\"', '')\n",
    "    text = text.replace(\"'\", '')\n",
    "    text = text.replace(':', '')\n",
    "    text = text.replace(';', '')\n",
    "    # remove @? Might want to strip twitter usernames later\n",
    "    return text\n",
    "\n",
    "df_train['text'] = df_train['text'].apply(remove_punctuation)\n",
    "df_valid['text'] = df_valid['text'].apply(remove_punctuation)\n",
    "df_test['text'] = df_test['text'].apply(remove_punctuation)"
   ]
  },
  {
   "cell_type": "code",
   "execution_count": 11,
   "id": "4b0b4f85-a0c2-4810-a10e-d0cb104ce7be",
   "metadata": {},
   "outputs": [],
   "source": [
    "# removing stop words\n",
    "import nltk\n",
    "from nltk.corpus import stopwords\n",
    "\n",
    "def remove_stopwords(text):\n",
    "    sw = stopwords.words('english')\n",
    "    words = text.split(' ')\n",
    "    filtered = [w for w in words if w not in sw]\n",
    "    return ' '.join([str(v) for v in filtered])\n",
    "\n",
    "df_train['text'] = df_train['text'].apply(remove_stopwords)\n",
    "df_valid['text'] = df_valid['text'].apply(remove_stopwords)\n",
    "df_test['text'] = df_test['text'].apply(remove_stopwords)"
   ]
  },
  {
   "cell_type": "markdown",
   "id": "5ea9275b-e7fd-4a13-bf7f-d269c175ec98",
   "metadata": {},
   "source": [
    "# DQ issues - missing data"
   ]
  },
  {
   "cell_type": "code",
   "execution_count": 12,
   "id": "5dc87737-444e-4678-8e01-e0ad71f6eab9",
   "metadata": {},
   "outputs": [
    {
     "name": "stdout",
     "output_type": "stream",
     "text": [
      "0\n",
      "0\n",
      "0\n"
     ]
    }
   ],
   "source": [
    "print(df_train['text'].isna().sum())\n",
    "print(df_valid['text'].isna().sum())\n",
    "print(df_test['text'].isna().sum())"
   ]
  },
  {
   "cell_type": "markdown",
   "id": "929bf70d-df29-4d94-ab9a-a0ef6fe33da2",
   "metadata": {},
   "source": [
    "# Setup model"
   ]
  },
  {
   "cell_type": "code",
   "execution_count": 13,
   "id": "4ff9b4a2-d2cd-4b8f-96f3-b2b8a804d660",
   "metadata": {},
   "outputs": [],
   "source": [
    "X_train, y_train = df_train['text'].to_numpy(), df_train['label'].to_numpy()\n",
    "X_valid, y_valid = df_valid['text'].to_numpy(), df_valid['label'].to_numpy()\n",
    "X_test, y_test = df_test['text'].to_numpy(), df_test['label'].to_numpy()"
   ]
  },
  {
   "cell_type": "code",
   "execution_count": 14,
   "id": "b21def03-9d79-4d00-bbb3-302de3c55997",
   "metadata": {},
   "outputs": [
    {
     "name": "stderr",
     "output_type": "stream",
     "text": [
      "2022-03-20 17:32:18.610459: W tensorflow/stream_executor/platform/default/dso_loader.cc:64] Could not load dynamic library 'libcudart.so.11.0'; dlerror: libcudart.so.11.0: cannot open shared object file: No such file or directory\n",
      "2022-03-20 17:32:18.610478: I tensorflow/stream_executor/cuda/cudart_stub.cc:29] Ignore above cudart dlerror if you do not have a GPU set up on your machine.\n"
     ]
    }
   ],
   "source": [
    "from tensorflow.keras.preprocessing.text import Tokenizer\n",
    "from tensorflow.keras.preprocessing.sequence import pad_sequences\n",
    "\n",
    "n_words = 5000\n",
    "max_length = 100\n",
    "tokenizer = Tokenizer(oov_token='<OOV>', num_words=n_words)\n",
    "tokenizer.fit_on_texts(np.concatenate([X_train, X_valid]))\n",
    "word_index = tokenizer.word_index\n",
    "\n",
    "training_sequences = tokenizer.texts_to_sequences(X_train)\n",
    "training_padded = pad_sequences(training_sequences, padding='post', maxlen=max_length)\n",
    "\n",
    "valid_sequences = tokenizer.texts_to_sequences(X_valid)\n",
    "valid_padded = pad_sequences(valid_sequences, padding='post', maxlen=max_length)\n",
    "\n",
    "test_sequences = tokenizer.texts_to_sequences(X_test)\n",
    "test_padded = pad_sequences(test_sequences, padding='post', maxlen=max_length)"
   ]
  },
  {
   "cell_type": "code",
   "execution_count": 15,
   "id": "3e50b48f-db1b-426c-9b8f-f088f2a77b86",
   "metadata": {},
   "outputs": [
    {
     "name": "stdout",
     "output_type": "stream",
     "text": [
      "Model: \"sequential\"\n",
      "_________________________________________________________________\n",
      "Layer (type)                 Output Shape              Param #   \n",
      "=================================================================\n",
      "embedding (Embedding)        (None, None, 30)          150000    \n",
      "_________________________________________________________________\n",
      "bidirectional (Bidirectional (None, 60)                14640     \n",
      "_________________________________________________________________\n",
      "dense (Dense)                (None, 10)                610       \n",
      "_________________________________________________________________\n",
      "dense_1 (Dense)              (None, 1)                 11        \n",
      "=================================================================\n",
      "Total params: 165,261\n",
      "Trainable params: 165,261\n",
      "Non-trainable params: 0\n",
      "_________________________________________________________________\n"
     ]
    },
    {
     "name": "stderr",
     "output_type": "stream",
     "text": [
      "2022-03-20 17:32:26.943903: W tensorflow/stream_executor/platform/default/dso_loader.cc:64] Could not load dynamic library 'libcuda.so.1'; dlerror: libcuda.so.1: cannot open shared object file: No such file or directory\n",
      "2022-03-20 17:32:26.943924: W tensorflow/stream_executor/cuda/cuda_driver.cc:326] failed call to cuInit: UNKNOWN ERROR (303)\n",
      "2022-03-20 17:32:26.943939: I tensorflow/stream_executor/cuda/cuda_diagnostics.cc:156] kernel driver does not appear to be running on this host (sdysch-Lenovo-IdeaPad-S540-15IML): /proc/driver/nvidia/version does not exist\n",
      "2022-03-20 17:32:26.944120: I tensorflow/core/platform/cpu_feature_guard.cc:142] This TensorFlow binary is optimized with oneAPI Deep Neural Network Library (oneDNN) to use the following CPU instructions in performance-critical operations:  AVX2 FMA\n",
      "To enable them in other operations, rebuild TensorFlow with the appropriate compiler flags.\n"
     ]
    }
   ],
   "source": [
    "from tensorflow.keras.models import Sequential\n",
    "from tensorflow.keras.layers import Dense, LSTM, Embedding, GlobalAveragePooling1D, Dropout, Bidirectional\n",
    "from tensorflow.keras.metrics import Precision, Recall\n",
    "from tensorflow.keras.callbacks import LearningRateScheduler\n",
    "from tensorflow.keras.optimizers import Adam, SGD\n",
    "\n",
    "reg = None\n",
    "#reg = 'l1'\n",
    "\n",
    "# model\n",
    "model = Sequential()\n",
    "model.add(Embedding(n_words, 30))\n",
    "#model.add(LSTM(50, activation='relu', return_sequences=False))\n",
    "model.add(Bidirectional(LSTM(30, activation='relu', return_sequences=False)))\n",
    "#model.add(Dropout(0.4))\n",
    "model.add(Dense(10, activation='relu', kernel_regularizer=reg))\n",
    "model.add(Dense(1, activation='sigmoid'))\n",
    "\n",
    "# loss/optimizers\n",
    "# learning_rate = 0.0001 # too slow\n",
    "learning_rate = 0.001\n",
    "#learning_rate = 0.01\n",
    "optimizer = SGD(learning_rate=learning_rate, momentum=0.99)\n",
    "\n",
    "# metrics\n",
    "#metrics = ['accuracy', Precision(), Recall()]\n",
    "metrics = ['accuracy']\n",
    "\n",
    "model.compile(loss='binary_crossentropy', optimizer=optimizer, metrics=metrics)\n",
    "\n",
    "model.summary()"
   ]
  },
  {
   "cell_type": "code",
   "execution_count": 16,
   "id": "b0b3b7e2-2668-4f89-b1d4-6516fefe8b79",
   "metadata": {},
   "outputs": [
    {
     "name": "stderr",
     "output_type": "stream",
     "text": [
      "2022-03-20 17:32:27.142518: I tensorflow/compiler/mlir/mlir_graph_optimization_pass.cc:176] None of the MLIR Optimization Passes are enabled (registered 2)\n"
     ]
    },
    {
     "name": "stdout",
     "output_type": "stream",
     "text": [
      "Epoch 1/20\n"
     ]
    },
    {
     "name": "stderr",
     "output_type": "stream",
     "text": [
      "2022-03-20 17:32:27.165551: I tensorflow/core/platform/profile_utils/cpu_utils.cc:114] CPU Frequency: 2099940000 Hz\n"
     ]
    },
    {
     "name": "stdout",
     "output_type": "stream",
     "text": [
      "1250/1250 [==============================] - 35s 27ms/step - loss: 0.6934 - accuracy: 0.5012 - val_loss: 0.6934 - val_accuracy: 0.5028\n",
      "Epoch 2/20\n",
      "1250/1250 [==============================] - 37s 29ms/step - loss: 0.6928 - accuracy: 0.5109 - val_loss: 0.6929 - val_accuracy: 0.4964\n",
      "Epoch 3/20\n",
      "1250/1250 [==============================] - 38s 30ms/step - loss: 0.6908 - accuracy: 0.5266 - val_loss: 0.6879 - val_accuracy: 0.5376\n",
      "Epoch 4/20\n",
      "1250/1250 [==============================] - 37s 29ms/step - loss: 0.6823 - accuracy: 0.5598 - val_loss: 0.6803 - val_accuracy: 0.5584\n",
      "Epoch 5/20\n",
      "1250/1250 [==============================] - 37s 29ms/step - loss: 0.6330 - accuracy: 0.6487 - val_loss: 0.6090 - val_accuracy: 0.6772\n",
      "Epoch 6/20\n",
      "1250/1250 [==============================] - 37s 30ms/step - loss: 0.5196 - accuracy: 0.7495 - val_loss: 0.4266 - val_accuracy: 0.8228\n",
      "Epoch 7/20\n",
      "1250/1250 [==============================] - 37s 29ms/step - loss: 0.3811 - accuracy: 0.8355 - val_loss: 0.3390 - val_accuracy: 0.8570\n",
      "Epoch 8/20\n",
      "1250/1250 [==============================] - 37s 30ms/step - loss: 0.3057 - accuracy: 0.8719 - val_loss: 0.3020 - val_accuracy: 0.8708\n",
      "Epoch 9/20\n",
      "1250/1250 [==============================] - 37s 29ms/step - loss: 0.2704 - accuracy: 0.8902 - val_loss: 0.3038 - val_accuracy: 0.8738\n",
      "Epoch 10/20\n",
      "1250/1250 [==============================] - 37s 30ms/step - loss: 0.2771 - accuracy: 0.8860 - val_loss: 0.2983 - val_accuracy: 0.8724\n",
      "Epoch 11/20\n",
      "1250/1250 [==============================] - 37s 30ms/step - loss: 0.2539 - accuracy: 0.8973 - val_loss: 0.3074 - val_accuracy: 0.8754\n",
      "Epoch 12/20\n",
      "1250/1250 [==============================] - 37s 30ms/step - loss: 0.2339 - accuracy: 0.9081 - val_loss: 0.3033 - val_accuracy: 0.8706\n",
      "Epoch 13/20\n",
      "1250/1250 [==============================] - 37s 30ms/step - loss: 0.2333 - accuracy: 0.9062 - val_loss: 0.3127 - val_accuracy: 0.8768\n",
      "Epoch 14/20\n",
      "1250/1250 [==============================] - 37s 30ms/step - loss: 0.2201 - accuracy: 0.9133 - val_loss: 0.3154 - val_accuracy: 0.8758\n",
      "Epoch 15/20\n",
      "1250/1250 [==============================] - 37s 30ms/step - loss: 0.2109 - accuracy: 0.9183 - val_loss: 0.3161 - val_accuracy: 0.8734\n",
      "Epoch 16/20\n",
      "1250/1250 [==============================] - 37s 30ms/step - loss: 0.2106 - accuracy: 0.9181 - val_loss: 0.3092 - val_accuracy: 0.8760\n",
      "Epoch 17/20\n",
      "1250/1250 [==============================] - 37s 30ms/step - loss: 0.1997 - accuracy: 0.9239 - val_loss: 0.3276 - val_accuracy: 0.8738\n",
      "Epoch 18/20\n",
      "1250/1250 [==============================] - 37s 30ms/step - loss: 0.1976 - accuracy: 0.9241 - val_loss: 0.3237 - val_accuracy: 0.8706\n",
      "Epoch 19/20\n",
      "1250/1250 [==============================] - 37s 30ms/step - loss: 0.1931 - accuracy: 0.9258 - val_loss: 0.3291 - val_accuracy: 0.8718\n",
      "Epoch 20/20\n",
      "1250/1250 [==============================] - 37s 30ms/step - loss: 0.1837 - accuracy: 0.9320 - val_loss: 0.3541 - val_accuracy: 0.8610\n"
     ]
    }
   ],
   "source": [
    "from tensorflow.keras.callbacks import EarlyStopping, ReduceLROnPlateau\n",
    "\n",
    "es = EarlyStopping(monitor='val_loss', min_delta=0.00001, patience=20, verbose=1, restore_best_weights=True, mode='auto')\n",
    "lr = ReduceLROnPlateau(monitor=\"val_loss\", factor=0.1, patience=10, verbose=1, mode=\"auto\", min_delta=0.0001, cooldown=0, min_lr=0.000000001)\n",
    "#callbacks = [lr]\n",
    "#callbacks = [es]\n",
    "callbacks = []\n",
    "    \n",
    "epochs = 20\n",
    "#epochs = 30\n",
    "\n",
    "#batch_size = 64\n",
    "batch_size = 32\n",
    "\n",
    "history = model.fit(training_padded,\n",
    "          y_train,\n",
    "          batch_size=batch_size,\n",
    "          epochs=epochs,\n",
    "          callbacks=callbacks,\n",
    "          validation_data=(valid_padded, y_valid),\n",
    "          shuffle=True)"
   ]
  },
  {
   "cell_type": "code",
   "execution_count": 17,
   "id": "811f0af5-b422-458d-b7c7-86905699ef64",
   "metadata": {},
   "outputs": [
    {
     "data": {
      "image/png": "[encoded data removed]",
      "text/plain": [
       "<Figure size 720x360 with 2 Axes>"
      ]
     },
     "metadata": {
      "needs_background": "light"
     },
     "output_type": "display_data"
    }
   ],
   "source": [
    "fig, ax = plt.subplots(1, 2, figsize=(10, 5))\n",
    "\n",
    "ax[0].plot(history.history['loss'], label='Train')\n",
    "ax[0].plot(history.history['val_loss'], label='Validation')\n",
    "ax[0].set_xlabel('epochs')\n",
    "ax[0].set_ylabel('loss')\n",
    "ax[0].legend(loc='best')\n",
    "#ax[0].set_yscale('log')\n",
    "\n",
    "ax[1].plot(history.history['accuracy'], label='Train')\n",
    "ax[1].plot(history.history['val_accuracy'], label='Validation')\n",
    "ax[1].set_xlabel('epochs')\n",
    "ax[1].set_ylabel('accuracy')\n",
    "ax[1].legend(loc='best')\n",
    "\n",
    "\n",
    "plt.show()"
   ]
  },
  {
   "cell_type": "code",
   "execution_count": 18,
   "id": "662f9920-eac1-4d0f-8c25-47d965d9f6ab",
   "metadata": {},
   "outputs": [
    {
     "name": "stdout",
     "output_type": "stream",
     "text": [
      "Accuracy: 0.8598\n",
      "Precision: 0.8147243545010467\n",
      "Recall: 0.9321357285429142\n"
     ]
    },
    {
     "data": {
      "text/plain": [
       "<matplotlib.axes._subplots.AxesSubplot at 0x7faf9419e580>"
      ]
     },
     "execution_count": 18,
     "metadata": {},
     "output_type": "execute_result"
    },
    {
     "data": {
      "image/png": "[encoded data removed]",
      "text/plain": [
       "<Figure size 432x288 with 2 Axes>"
      ]
     },
     "metadata": {
      "needs_background": "light"
     },
     "output_type": "display_data"
    }
   ],
   "source": [
    "# confusion matrix\n",
    "from sklearn.metrics import confusion_matrix, accuracy_score, recall_score, precision_score\n",
    "\n",
    "y_pred = model.predict(test_padded)\n",
    "y_pred = y_pred > 0.5\n",
    "\n",
    "print(f'Accuracy: {accuracy_score(y_test, y_pred)}')\n",
    "print(f'Precision: {precision_score(y_test, y_pred)}')\n",
    "print(f'Recall: {recall_score(y_test, y_pred)}')\n",
    "\n",
    "cm = confusion_matrix(y_test, y_pred, normalize='true')\n",
    "# print(cm)\n",
    "sns.heatmap(cm, annot=True, square=True)"
   ]
  },
  {
   "cell_type": "code",
   "execution_count": null,
   "id": "6206a14b-2ef7-458b-9906-a0f623802b88",
   "metadata": {},
   "outputs": [],
   "source": []
  }
 ],
 "metadata": {
  "kernelspec": {
   "display_name": "Python 3 (ipykernel)",
   "language": "python",
   "name": "python3"
  },
  "language_info": {
   "codemirror_mode": {
    "name": "ipython",
    "version": 3
   },
   "file_extension": ".py",
   "mimetype": "text/x-python",
   "name": "python",
   "nbconvert_exporter": "python",
   "pygments_lexer": "ipython3",
   "version": "3.8.10"
  }
 },
 "nbformat": 4,
 "nbformat_minor": 5
}
